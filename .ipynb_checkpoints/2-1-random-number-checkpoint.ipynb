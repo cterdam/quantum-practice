{
 "cells": [
  {
   "cell_type": "markdown",
   "id": "a034ffe9",
   "metadata": {},
   "source": [
    "# Preambles"
   ]
  },
  {
   "cell_type": "code",
   "execution_count": 6,
   "id": "64198f7f",
   "metadata": {},
   "outputs": [],
   "source": [
    "## Example 2-1: Random bit\n",
    "from qiskit import *"
   ]
  },
  {
   "cell_type": "markdown",
   "id": "398566df",
   "metadata": {},
   "source": [
    "# Prepare circuit"
   ]
  },
  {
   "cell_type": "code",
   "execution_count": 7,
   "id": "4abb1b99",
   "metadata": {},
   "outputs": [
    {
     "data": {
      "text/plain": [
       "<qiskit.circuit.instructionset.InstructionSet at 0x175b5ec50>"
      ]
     },
     "execution_count": 7,
     "metadata": {},
     "output_type": "execute_result"
    }
   ],
   "source": [
    "# Set up the program\n",
    "reg = QuantumRegister(1, name='reg')\n",
    "reg_c = ClassicalRegister(1, name='regc')\n",
    "qc = QuantumCircuit(reg, reg_c)\n",
    "\n",
    "qc.reset(reg)          # write the value 0\n",
    "qc.h(reg)              # put it into a superposition of 0 and 1\n",
    "qc.measure(reg, reg_c) # read the result as a digital bit"
   ]
  },
  {
   "cell_type": "markdown",
   "id": "30eee0a2",
   "metadata": {},
   "source": [
    "# statevector backend"
   ]
  },
  {
   "cell_type": "code",
   "execution_count": 8,
   "id": "f48f1738",
   "metadata": {},
   "outputs": [
    {
     "name": "stdout",
     "output_type": "stream",
     "text": [
      "counts: {'0': 1}\n",
      "[1.+0.j 0.+0.j]\n"
     ]
    },
    {
     "data": {
      "text/html": [
       "<pre style=\"word-wrap: normal;white-space: pre;background: #fff0;line-height: 1.1;font-family: &quot;Courier New&quot;,Courier,monospace\">           ┌───┐┌─┐\n",
       " reg: ─|0>─┤ H ├┤M├\n",
       "           └───┘└╥┘\n",
       "regc: ═══════════╩═\n",
       "                   </pre>"
      ],
      "text/plain": [
       "           ┌───┐┌─┐\n",
       " reg: ─|0>─┤ H ├┤M├\n",
       "           └───┘└╥┘\n",
       "regc: ═══════════╩═\n",
       "                   "
      ]
     },
     "execution_count": 8,
     "metadata": {},
     "output_type": "execute_result"
    }
   ],
   "source": [
    "backend = BasicAer.get_backend('statevector_simulator')\n",
    "job = execute(qc, backend)\n",
    "result = job.result()\n",
    "\n",
    "counts = result.get_counts(qc)\n",
    "print('counts:',counts)\n",
    "\n",
    "outputstate = result.get_statevector(qc, decimals=3)\n",
    "print(outputstate)\n",
    "qc.draw()        # draw the circuit"
   ]
  },
  {
   "cell_type": "markdown",
   "id": "8e254cd5",
   "metadata": {},
   "source": [
    "# qasm_simulator backend"
   ]
  },
  {
   "cell_type": "code",
   "execution_count": 9,
   "id": "be37224c",
   "metadata": {},
   "outputs": [
    {
     "name": "stdout",
     "output_type": "stream",
     "text": [
      "{'1': 529, '0': 495}\n"
     ]
    }
   ],
   "source": [
    "# Use Aer's qasm_simulator\n",
    "backend_sim = Aer.get_backend('qasm_simulator')\n",
    "\n",
    "# Execute the circuit on the qasm simulator.\n",
    "# We've set the number of repeats of the circuit\n",
    "# to be 1024, which is the default.\n",
    "job_sim = backend_sim.run(transpile(qc, backend_sim), shots=1024)\n",
    "\n",
    "# Grab the results from the job.\n",
    "result_sim = job_sim.result()\n",
    "\n",
    "counts = result_sim.get_counts(qc)\n",
    "print(counts)"
   ]
  }
 ],
 "metadata": {
  "kernelspec": {
   "display_name": "Python 3 (ipykernel)",
   "language": "python",
   "name": "python3"
  },
  "language_info": {
   "codemirror_mode": {
    "name": "ipython",
    "version": 3
   },
   "file_extension": ".py",
   "mimetype": "text/x-python",
   "name": "python",
   "nbconvert_exporter": "python",
   "pygments_lexer": "ipython3",
   "version": "3.10.6"
  }
 },
 "nbformat": 4,
 "nbformat_minor": 5
}
